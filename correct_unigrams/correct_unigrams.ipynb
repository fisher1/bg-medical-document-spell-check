{
 "cells": [
  {
   "cell_type": "code",
   "execution_count": 26,
   "metadata": {},
   "outputs": [],
   "source": [
    "import pandas as pd\n",
    "import numpy as np\n",
    "import re"
   ]
  },
  {
   "cell_type": "markdown",
   "metadata": {},
   "source": [
    "## Load data:"
   ]
  },
  {
   "cell_type": "code",
   "execution_count": 92,
   "metadata": {},
   "outputs": [
    {
     "name": "stdout",
     "output_type": "stream",
     "text": [
      "119678\n",
      "122558\n"
     ]
    }
   ],
   "source": [
    "dictionary = pd.read_csv('dictionary.csv')\n",
    "organs = pd.read_csv('./fmi_symptom_recognition/data/organs.csv')\n",
    "symptoms = pd.read_csv('./fmi_symptom_recognition/data/symptoms.csv')\n",
    "systems = pd.read_csv('./fmi_symptom_recognition/data/systems.csv')\n",
    "\n",
    "dictionary = pd.concat([dictionary, organs, symptoms, systems], ignore_index=True)\n",
    "\n",
    "df = pd.read_excel('unigrams.xlsx')"
   ]
  },
  {
   "cell_type": "markdown",
   "metadata": {},
   "source": [
    "## Filter by single correct word"
   ]
  },
  {
   "cell_type": "code",
   "execution_count": 96,
   "metadata": {},
   "outputs": [
    {
     "name": "stdout",
     "output_type": "stream",
     "text": [
      "       Unnamed: 0              Word  Count  Correct  Link to correct  \\\n",
      "3               3               б.о  22399    False              NaN   \n",
      "4               4                RR  22049    False              NaN   \n",
      "6               6               Cor  16872    False              NaN   \n",
      "10             10               РСД  12270    False              NaN   \n",
      "12             12            тонове  11832    False              NaN   \n",
      "...           ...               ...    ...      ...              ...   \n",
      "43284       31484  XII.Десностранна      1    False              NaN   \n",
      "43285       33836               xsl      1    False              NaN   \n",
      "43286       36530                 z      1    False              NaN   \n",
      "43287       22400                Za      1    False              NaN   \n",
      "43288       40010          ZASTOJNI      1    False              NaN   \n",
      "\n",
      "         BG to EN    EN to BG  \n",
      "3             b.o         B.O  \n",
      "4              Rr          RR  \n",
      "6             COR         Кор  \n",
      "10            PSD         Psd  \n",
      "12          tones      тонове  \n",
      "...           ...         ...  \n",
      "43284  XII.Dexual  Xii.dexual  \n",
      "43285         xsl         xsl  \n",
      "43286           z           z  \n",
      "43287          Za          За  \n",
      "43288    Zastojni    Zastojni  \n",
      "\n",
      "[37332 rows x 7 columns]\n"
     ]
    }
   ],
   "source": [
    "df_clean_single = df[~df['Word'].str.lower().isin(dictionary['name'])]\n",
    "print(df_clean_single)\n",
    "dictionary.to_csv('dictionary_new.csv')"
   ]
  },
  {
   "cell_type": "markdown",
   "metadata": {},
   "source": [
    "## Clean by joined correct words"
   ]
  },
  {
   "cell_type": "code",
   "execution_count": 102,
   "metadata": {},
   "outputs": [
    {
     "name": "stdout",
     "output_type": "stream",
     "text": [
      "       Unnamed: 0              Word  Count  Correct  Link to correct  \\\n",
      "3               3               б.о  22399    False              NaN   \n",
      "4               4                RR  22049    False              NaN   \n",
      "6               6               Cor  16872    False              NaN   \n",
      "10             10               РСД  12270    False              NaN   \n",
      "12             12            тонове  11832    False              NaN   \n",
      "...           ...               ...    ...      ...              ...   \n",
      "43284       31484  XII.Десностранна      1    False              NaN   \n",
      "43285       33836               xsl      1    False              NaN   \n",
      "43286       36530                 z      1    False              NaN   \n",
      "43287       22400                Za      1    False              NaN   \n",
      "43288       40010          ZASTOJNI      1    False              NaN   \n",
      "\n",
      "         BG to EN    EN to BG  \n",
      "3             b.o         B.O  \n",
      "4              Rr          RR  \n",
      "6             COR         Кор  \n",
      "10            PSD         Psd  \n",
      "12          tones      тонове  \n",
      "...           ...         ...  \n",
      "43284  XII.Dexual  Xii.dexual  \n",
      "43285         xsl         xsl  \n",
      "43286           z           z  \n",
      "43287          Za          За  \n",
      "43288    Zastojni    Zastojni  \n",
      "\n",
      "[36283 rows x 7 columns]\n"
     ]
    }
   ],
   "source": [
    "dictionary_dict = dictionary['name'].to_dict()\n",
    "dictionary_dict = {v: k for k, v in dictionary_dict.items()}\n",
    "\n",
    "def check_split_words_in_dictionary(unigram):\n",
    "    words = re.sub(r\"[\\.\\-]\", ' ', str(unigram)).split()\n",
    "    for word in words:\n",
    "        if word not in dictionary_dict:\n",
    "            return False\n",
    "    return True\n",
    "\n",
    "split_words = df_clean_single['Word'].apply(check_split_words_in_dictionary)\n",
    "df_clean_joined = df_clean_single[~split_words]\n",
    "print(df_clean_joined)"
   ]
  },
  {
   "cell_type": "markdown",
   "metadata": {},
   "source": [
    "## Mark incorrectly joined words"
   ]
  },
  {
   "cell_type": "code",
   "execution_count": 109,
   "metadata": {},
   "outputs": [
    {
     "name": "stdout",
     "output_type": "stream",
     "text": [
      "       Unnamed: 0              Word  Count  Correct  Link to correct  \\\n",
      "3               3               б.о  22399    False              NaN   \n",
      "4               4                RR  22049    False              NaN   \n",
      "6               6               Cor  16872    False              NaN   \n",
      "10             10               РСД  12270    False              NaN   \n",
      "12             12            тонове  11832    False              NaN   \n",
      "...           ...               ...    ...      ...              ...   \n",
      "43284       31484  XII.Десностранна      1    False              NaN   \n",
      "43285       33836               xsl      1    False              NaN   \n",
      "43286       36530                 z      1    False              NaN   \n",
      "43287       22400                Za      1    False              NaN   \n",
      "43288       40010          ZASTOJNI      1    False              NaN   \n",
      "\n",
      "         BG to EN    EN to BG Split suggestions split_suggestions  \n",
      "3             b.o         B.O              None              None  \n",
      "4              Rr          RR              None              None  \n",
      "6             COR         Кор              None              None  \n",
      "10            PSD         Psd              None              None  \n",
      "12          tones      тонове           тонов е           тонов е  \n",
      "...           ...         ...               ...               ...  \n",
      "43284  XII.Dexual  Xii.dexual              None              None  \n",
      "43285         xsl         xsl              None              None  \n",
      "43286           z           z              None              None  \n",
      "43287          Za          За              None              None  \n",
      "43288    Zastojni    Zastojni              None              None  \n",
      "\n",
      "[36283 rows x 9 columns]\n"
     ]
    }
   ],
   "source": [
    "def check_joined_words_in_dictionary(unigram):\n",
    "    unigram = str(unigram)\n",
    "    # if not single word, it was already checked at previous step\n",
    "    if not re.match(r\"[а-яА-Яa-zA-Z]+\", unigram):\n",
    "        return False\n",
    "\n",
    "    for i in range(1, len(unigram)):\n",
    "        word1 = unigram[0:i]\n",
    "        word2 = unigram[i:len(unigram)]\n",
    "        if word1 in dictionary_dict and word2 in dictionary_dict:\n",
    "            return word1 + ' ' + word2\n",
    "\n",
    "    return None\n",
    "\n",
    "joined_words = df_clean_joined['Word'].apply(check_joined_words_in_dictionary)\n",
    "df_with_suggestions = df_clean_joined.assign(split_suggestions=joined_words)\n",
    "print(df_with_suggestions)"
   ]
  },
  {
   "cell_type": "markdown",
   "metadata": {},
   "source": [
    "## Translated similarity"
   ]
  },
  {
   "cell_type": "code",
   "execution_count": 116,
   "metadata": {},
   "outputs": [
    {
     "name": "stdout",
     "output_type": "stream",
     "text": [
      "3        0.00\n",
      "4        1.00\n",
      "6        0.00\n",
      "10       0.00\n",
      "12       1.00\n",
      "         ... \n",
      "43284    0.25\n",
      "43285    1.00\n",
      "43286    1.00\n",
      "43287    0.00\n",
      "43288    1.00\n",
      "Name: translated_similarity, Length: 36283, dtype: float64\n"
     ]
    }
   ],
   "source": [
    "def get_similarity(row):\n",
    "    original = str(row['Word']).lower()\n",
    "    translated = str(row['EN to BG']).lower()\n",
    "\n",
    "    i = 0\n",
    "    same_count = 0\n",
    "    while i < len(original) and i < len(translated):\n",
    "        if original[i] == translated[i]:\n",
    "            same_count += 1\n",
    "            i += 1\n",
    "        else:\n",
    "            break\n",
    "    \n",
    "    bigger = max(len(original), len(translated))\n",
    "    return same_count/bigger\n",
    "\n",
    "similarity = df_with_suggestions.apply(get_similarity, axis=1)\n",
    "df_with_similarity = df_with_suggestions.assign(translated_similarity=similarity)\n",
    "print(df_with_similarity['translated_similarity'])"
   ]
  },
  {
   "cell_type": "markdown",
   "metadata": {},
   "source": [
    "## Extract to XLS"
   ]
  },
  {
   "cell_type": "code",
   "execution_count": 117,
   "metadata": {},
   "outputs": [],
   "source": [
    "df_with_similarity.to_excel('unigrams_new.xlsx')"
   ]
  }
 ],
 "metadata": {
  "interpreter": {
   "hash": "aee8b7b246df8f9039afb4144a1f6fd8d2ca17a180786b69acc140d282b71a49"
  },
  "kernelspec": {
   "display_name": "Python 3.9.12 64-bit",
   "language": "python",
   "name": "python3"
  },
  "language_info": {
   "codemirror_mode": {
    "name": "ipython",
    "version": 3
   },
   "file_extension": ".py",
   "mimetype": "text/x-python",
   "name": "python",
   "nbconvert_exporter": "python",
   "pygments_lexer": "ipython3",
   "version": "3.9.12"
  },
  "orig_nbformat": 4
 },
 "nbformat": 4,
 "nbformat_minor": 2
}
