{
 "cells": [
  {
   "cell_type": "code",
   "execution_count": 30,
   "metadata": {},
   "outputs": [],
   "source": [
    "import pandas as pd\n",
    "import numpy as np\n",
    "from nltk import word_tokenize\n",
    "from nltk.util import ngrams\n",
    "import re"
   ]
  },
  {
   "cell_type": "markdown",
   "metadata": {},
   "source": [
    "### Load dataframe:"
   ]
  },
  {
   "cell_type": "code",
   "execution_count": 31,
   "metadata": {},
   "outputs": [],
   "source": [
    "with open('../data_per_simpCode_00_clean_anamnesa.txt', 'rb') as f:\n",
    "    lines = f.read().decode(\"utf-8\", \"backslashreplace\").splitlines()\n",
    "# with open('../data_per_simpCode_00_clean_status.txt', 'r') as f:\n",
    "#     lines = f.read().splitlines()\n",
    "with open('../data_per_simpCode_00_clean_status.txt', 'r') as f:\n",
    "    lines = lines + f.read().splitlines()\n",
    "df = pd.DataFrame(lines, dtype='string')"
   ]
  },
  {
   "cell_type": "markdown",
   "metadata": {},
   "source": [
    "### Clean with regular expressions:"
   ]
  },
  {
   "cell_type": "code",
   "execution_count": 32,
   "metadata": {},
   "outputs": [],
   "source": [
    "def replace_numbers(sentence):\n",
    "    return re.sub('\\d+', 'NUM', sentence)\n",
    "\n",
    "def replace_dates(sentence):\n",
    "    return re.sub('NUM.NUM.NUM', 'DATE', sentence)\n",
    "\n",
    "def replace_float_numbers(sentence):\n",
    "    return re.sub('NUM.NUM', 'NUM', sentence)\n",
    "\n",
    "def remove_multiple_spaces(sentence):\n",
    "    return re.sub('\\s+', ' ', sentence)\n",
    "\n",
    "def remove_multiple_tabs(sentence):\n",
    "    return re.sub('\\t+', ' ', sentence)\n",
    "\n",
    "def add_space_before_numbers(sentence):\n",
    "    return re.sub(r\"(\\w+)NUM\", r\"\\1 NUM\", sentence)\n",
    "\n",
    "def add_space_after_numbers(sentence):\n",
    "    return re.sub(r\"NUM(\\w+)\", r\"NUM \\1\", sentence)\n",
    "\n",
    "def remove_question_marks(sentence):\n",
    "    return re.sub('\\?', ' ', sentence)\n",
    "\n",
    "def remove_exclamation_marks(sentence):\n",
    "    return re.sub('\\!', ' ', sentence)\n",
    "\n",
    "def remove_semicolons(sentence):\n",
    "    return re.sub(';', ' ', sentence)\n",
    "\n",
    "def remove_colons(sentence):\n",
    "    return re.sub(':', ' ', sentence)\n",
    "\n",
    "def remove_commas(sentence):\n",
    "    return re.sub('\\,', ' ', sentence)\n",
    "\n",
    "def remove_slashes(sentence):\n",
    "    return re.sub('\\/+', ' ', sentence)\n",
    "\n",
    "def remove_backslashes(sentence):\n",
    "    return re.sub('\\\\\\\\+', ' ', sentence)\n",
    "\n",
    "def remove_plus_signs(sentence):\n",
    "    return re.sub('\\+', ' ', sentence)\n",
    "\n",
    "def remove_equal_signs_not_surrounded_by_words(sentence):\n",
    "    return re.sub(r\"([^\\wа-яА-Я]*)\\=([\\wа-яА-Я])\", r\"\\1 \\2\", sentence)\n",
    "\n",
    "def remove_underscores(sentence):\n",
    "    return re.sub('\\_', ' ', sentence)\n",
    "\n",
    "def replace_invalid_dash(sentence):\n",
    "    return re.sub(r'[\\–\\—]', '-', sentence)\n",
    "\n",
    "def replace_multiple_dashes(sentence):\n",
    "    return re.sub('-{2,}', ' - ', sentence)\n",
    "\n",
    "def replace_multiple_dots(sentence):\n",
    "    return re.sub('\\.{2,}', '.', sentence)\n",
    "\n",
    "def remove_dashes_followed_by_space(sentence):\n",
    "    return re.sub(r\"(.)-\\s\", r\"\\1 \", sentence)\n",
    "\n",
    "def remove_dashes_following_a_space(sentence):\n",
    "    return re.sub(r\"\\s-(.)\", r\" \\1\", sentence)\n",
    "\n",
    "def remove_negative_examination(sentence):\n",
    "    return re.sub(r\"(?:\\(\\-\\)|\\{\\-\\})\", ' ', sentence)\n",
    "\n",
    "def remove_starting_special_characters(sentence):\n",
    "    return re.sub('^[\\.\\?\\-,]+', '', sentence)\n",
    "\n",
    "def remove_ending_special_characters(sentence):\n",
    "    return re.sub('[\\.\\?\\-,]+$', '', sentence)\n",
    "\n",
    "def remove_dots(sentence):\n",
    "    return re.sub('[\\.]+', ' ', sentence)\n",
    "\n",
    "def remove_quotation_marks(sentence):\n",
    "    return re.sub('[\\`\\'\\\"\\“\\”\\„]+', ' ', sentence)\n",
    "\n",
    "def remove_dot_before_word(sentence):\n",
    "    return re.sub(r\"([^\\wа-яА-Я])\\.([\\wа-яА-Я])\", r\"\\1 \\2\", sentence)\n",
    "\n",
    "def remove_dot_followed_by_dash(sentence):\n",
    "    return re.sub(r\"\\.\\-\", '. ', sentence)\n",
    "\n",
    "def space_out_dot_before_number(sentence):\n",
    "    return re.sub(r\"[\\.][\\-=]NUM\", '. NUM', sentence)\n",
    "\n",
    "def split_words_with_capital_after_lowercase(sentence):\n",
    "    return re.sub(r\"([а-яa-z])([А-ЯA-Z])\", r\"\\1 \\2\", sentence)\n",
    "\n",
    "def remove_comparison_operators(sentence):\n",
    "    return re.sub(r\"(?:\\&lt|\\&gt|\\>|\\<)\", ' ', sentence)\n",
    "\n",
    "def remove_misc_special_characters(sentence):\n",
    "    return re.sub(r\"[\\~§@\\*\\|\\#\\&\\{\\}\\$]\", ' ', sentence)\n",
    "\n",
    "\n",
    "df['clean_sentence'] = df[0].apply(remove_semicolons)\n",
    "df['clean_sentence'] = df['clean_sentence'].apply(remove_question_marks)\n",
    "df['clean_sentence'] = df['clean_sentence'].apply(remove_exclamation_marks)\n",
    "df['clean_sentence'] = df['clean_sentence'].apply(remove_colons)\n",
    "df['clean_sentence'] = df['clean_sentence'].apply(remove_commas)\n",
    "df['clean_sentence'] = df['clean_sentence'].apply(remove_slashes)\n",
    "df['clean_sentence'] = df['clean_sentence'].apply(remove_backslashes)\n",
    "df['clean_sentence'] = df['clean_sentence'].apply(remove_plus_signs)\n",
    "df['clean_sentence'] = df['clean_sentence'].apply(remove_equal_signs_not_surrounded_by_words)\n",
    "df['clean_sentence'] = df['clean_sentence'].apply(remove_underscores)\n",
    "df['clean_sentence'] = df['clean_sentence'].apply(replace_invalid_dash)\n",
    "df['clean_sentence'] = df['clean_sentence'].apply(replace_multiple_dashes)\n",
    "df['clean_sentence'] = df['clean_sentence'].apply(replace_multiple_dots)\n",
    "df['clean_sentence'] = df['clean_sentence'].apply(remove_dashes_followed_by_space)\n",
    "df['clean_sentence'] = df['clean_sentence'].apply(remove_dashes_following_a_space)\n",
    "df['clean_sentence'] = df['clean_sentence'].apply(remove_negative_examination)\n",
    "df['clean_sentence'] = df['clean_sentence'].apply(remove_starting_special_characters)\n",
    "df['clean_sentence'] = df['clean_sentence'].apply(remove_ending_special_characters)\n",
    "df['clean_sentence'] = df['clean_sentence'].apply(replace_numbers)\n",
    "df['clean_sentence'] = df['clean_sentence'].apply(replace_dates)\n",
    "df['clean_sentence'] = df['clean_sentence'].apply(replace_float_numbers)\n",
    "df['clean_sentence'] = df['clean_sentence'].apply(add_space_before_numbers)\n",
    "df['clean_sentence'] = df['clean_sentence'].apply(add_space_after_numbers)\n",
    "df['clean_sentence'] = df['clean_sentence'].apply(space_out_dot_before_number)\n",
    "df['clean_sentence'] = df['clean_sentence'].apply(remove_dot_before_word)\n",
    "df['clean_sentence'] = df['clean_sentence'].apply(remove_dot_followed_by_dash)\n",
    "df['clean_sentence'] = df['clean_sentence'].apply(split_words_with_capital_after_lowercase)\n",
    "df['clean_sentence'] = df['clean_sentence'].apply(remove_comparison_operators)\n",
    "df['clean_sentence'] = df['clean_sentence'].apply(remove_misc_special_characters)\n",
    "# df['clean_sentence'] = df['clean_sentence'].apply(remove_dots) # commetnt this line\n",
    "df['clean_sentence'] = df['clean_sentence'].apply(remove_quotation_marks)\n",
    "df['clean_sentence'] = df['clean_sentence'].apply(remove_multiple_tabs)\n",
    "df['clean_sentence'] = df['clean_sentence'].apply(remove_multiple_spaces)"
   ]
  },
  {
   "cell_type": "markdown",
   "metadata": {},
   "source": [
    "### Special cases cleaning:"
   ]
  },
  {
   "cell_type": "code",
   "execution_count": 33,
   "metadata": {},
   "outputs": [],
   "source": [
    "def remove_dash_after_special_words(sentence):\n",
    "    special_words = [\n",
    "        'ан', 'апарат', 'бми', 'вени', 'възли', 'глава', 'гърло', 'далак', 'дейност', 'дроб', 'език',\n",
    "        'жлеза', 'жлези', 'зрение', 'кожа', 'корем', 'крайници', 'нос', 'ода', 'одс', \n",
    "        'простата', 'пулмо', 'пулс', 'рефлекси', 'с-ма', 'слезка', 'сливици', \n",
    "        'слух', 'статус', 'сърце', 'състояние',\n",
    "        'тегло', 'температура', 'тонзили', 'шия', 'чмн', 'bmi', 'rr']\n",
    "    for word in special_words:\n",
    "        sentence = re.sub(f\"({word})-\", r\"\\1 \", sentence, flags=re.IGNORECASE)\n",
    "    return sentence\n",
    "\n",
    "def replace_special_expressions(sentence):\n",
    "    special_expressions = [\n",
    "        ['V O S', 'VOS'],\n",
    "        ['V O D', 'VOD'],\n",
    "        [r\"([^\\wа-яА-Я])(?:рр|РР|Рр|rr|PP)\", r\"\\1 RR\"],\n",
    "        [r\"(?:рр|РР|Рр|rr|PP)([^\\wа-яА-Я])\", r\"RR \\1\"],\n",
    "        [r\"([^\\wа-яА-Я]*)(?:кор|Кор|КОР|kor|Кор)([^\\wа-яА-Я])\", r\"\\1 Cor \"],\n",
    "        [r\"(?:б\\.о\\.|[^\\wа-яА-Я]бо\\.|\\sБО\\s|\\sБо\\s|\\sбо\\s|\\sб\\sо\\s|\\sБ\\.*\\sО\\s|\\sБ\\.*О\\.*\\s)\", ' б.о. '],\n",
    "        [r\"(?:РСД|р\\.с\\.д\\.|рсд|PCД)\", ' РСД '],\n",
    "        ['ССС', ' ССС '],\n",
    "        ['\\.NUM', '. NUM']\n",
    "    ]\n",
    "    for find, replace in special_expressions:\n",
    "        sentence = re.sub(find, replace, sentence)\n",
    "    return sentence\n",
    "\n",
    "df['clean_sentence'] = df['clean_sentence'].apply(remove_dash_after_special_words)\n",
    "df['clean_sentence'] = df['clean_sentence'].apply(replace_special_expressions)\n",
    "\n",
    "df['clean_sentence'] = df['clean_sentence'].apply(remove_dashes_followed_by_space)\n",
    "df['clean_sentence'] = df['clean_sentence'].apply(remove_dashes_following_a_space)\n",
    "df['clean_sentence'] = df['clean_sentence'].apply(remove_dot_before_word)\n",
    "df['clean_sentence'] = df['clean_sentence'].apply(remove_multiple_spaces)"
   ]
  },
  {
   "cell_type": "markdown",
   "metadata": {},
   "source": [
    "### Tokenize:"
   ]
  },
  {
   "cell_type": "code",
   "execution_count": 34,
   "metadata": {},
   "outputs": [
    {
     "name": "stdout",
     "output_type": "stream",
     "text": [
      "====Unigrams length====\n",
      "43291\n",
      "====First 10 unigrams====\n",
      "[('и', 31679), ('на', 27252), ('без', 27204), ('б.о', 22399), ('RR', 22049), ('Корем', 17239), ('Cor', 16872), ('в', 16477), ('дишане', 14264), ('мек', 12803)]\n",
      "====Bigrams length====\n",
      "156892\n",
      "====First 10 bigrams====\n",
      "[(('Корем', 'мек'), 9189), (('без', 'отоци'), 7400), (('везикуларно', 'дишане'), 7013), (('Cor', 'РСД'), 6939), (('сърдечна', 'дейност'), 6613), (('ясни', 'тонове'), 6034), (('не', 'се'), 5940), (('RR', 'Корем'), 4462), (('се', 'палпират'), 4303), (('дишане', 'без'), 4297)]\n"
     ]
    }
   ],
   "source": [
    "# save cleaned data so we know what tokenizer works on\n",
    "df['clean_sentence'].to_csv('sentence_cleaned_both.csv')\n",
    "\n",
    "discarded_tokens = ['.', 'NUM', 'DATE']\n",
    "\n",
    "unigrams = {}\n",
    "bigrams = {}\n",
    "for sentence in df['clean_sentence']:\n",
    "    tokens = word_tokenize(sentence)\n",
    "    tokens = list(filter(lambda token: token not in discarded_tokens, tokens))\n",
    "\n",
    "    #get unigrams\n",
    "    for token in tokens:\n",
    "        if token not in unigrams:\n",
    "            unigrams[token] = 0\n",
    "        unigrams[token] += 1\n",
    "\n",
    "    #get bigrams\n",
    "    bigram_list = list(ngrams(tokens, 2))\n",
    "    for bigram in bigram_list:\n",
    "        if bigram not in bigrams:\n",
    "            bigrams[bigram] = 0\n",
    "        bigrams[bigram] += 1\n",
    "\n",
    "unigrams = sorted(unigrams.items(), key=lambda x: x[1], reverse=True)\n",
    "bigrams = sorted(bigrams.items(), key=lambda x: x[1], reverse=True)\n",
    "df_bigrams = pd.DataFrame([(i[0], i[1], j) for i, j in bigrams], columns =['First', 'Second', 'Count'])\n",
    "df_bigrams.to_csv('bigrams.csv')\n",
    "print('====Unigrams length====')\n",
    "print(len(unigrams))\n",
    "print('====First 10 unigrams====')\n",
    "print(unigrams[0:10])\n",
    "print('====Bigrams length====')\n",
    "print(len(bigrams))\n",
    "print('====First 10 bigrams====')\n",
    "print(bigrams[0:10])"
   ]
  },
  {
   "cell_type": "markdown",
   "metadata": {},
   "source": [
    "### Collocations extraction:"
   ]
  },
  {
   "cell_type": "code",
   "execution_count": 35,
   "metadata": {},
   "outputs": [
    {
     "name": "stdout",
     "output_type": "stream",
     "text": [
      "====Collocations length====\n",
      "2653\n",
      "====First 100 collocations====\n",
      "[('ПИКОЧО-ПОЛОВО', 'С-МА'), ('Артериално', 'налягане'), ('(', 'Score'), ('Score', ')'), ('Съдечен', 'статус'), ('Корем', 'меко-еластичен'), ('везиколарно', 'дишане'), ('сърд', 'гран'), ('Явява', 'се'), ('Ч.ДР', 'И'), ('на', 'артериите'), ('на', 'гръд.кош'), ('смущ', 'в'), ('без', 'доб'), ('доб', 'хрипове'), ('Авто', 'и'), ('С-Фр', 'у'), ('рефлекси', 'Отпадна'), ('условията', 'на'), ('РСД', 'яс'), ('яс', 'тон'), ('сърд', 'гран.в'), ('гран.в', 'норма'), ('се', 'постигне'), ('НА', 'ВЪРХА'), ('Цветно', 'зрение'), ('на', 'Аорта'), ('на', 'извънболничната'), ('извънболничната', 'помощ'), ('тъй', 'като'), ('Лечебната', 'цел'), ('Височина', 'см'), ('Об.талия', 'см'), ('Нв', 'Корем'), ('мек', 'респиратнорно'), ('респиратнорно', 'подвижен'), ('да', 'бъда'), ('да', 'осигури'), ('да', 'заплати'), ('заплати', 'при'), ('при', 'назначаването'), ('назначаването', 'им'), ('за', 'ХСМ.Мек'), ('ХСМ.Мек', 'Физ'), ('без', 'хроп'), ('хроп', 'находка'), ('осигури', 'достатъчен'), ('достатъчен', 'РС'), ('Cor', 'Р.С.Д.фр'), ('ритмична', 'сър.д-ст'), ('Оглед', 'палпация'), ('Пулсова', 'честота'), ('от', 'Крайничци'), ('Крайничци', 'леки'), ('Мекоеластична', 'коремна'), ('лимни', 'възли'), ('ЗА', 'ВЪЗРАСТТА'), ('Не', 'желая'), ('желая', 'да'), ('Шиини', 'вени'), ('НЕВРОЛОГИЧИН', 'СТАТУС'), ('на', 'аа.дорзалис'), ('с', 'изтръпвания'), ('изтръпвания', 'и'), ('за', 'преписване'), ('преписване', 'на'), ('Sus.ren', '('), ('С', 'МЕКО-ЕЛАСТ'), ('типа', 'на'), ('кръвоносни', 'съдове'), ('тест', 'лента'), ('и', 'вид.разширени'), ('Д', 'мин.Мл'), ('мин.Мл', 'жлези'), ('се', 'палп.СРД'), ('палп.СРД', 'СРС'), ('перкуторен', 'тон.Сърце'), ('тон.Сърце', 'ритмична'), ('dorsalis', 'pedis'), ('ритм.Корем', 'Мек'), ('начин', 'на'), ('взет', 'на'), ('гръбначен', 'стълб'), ('магистрални', 'А.А'), ('А.А', 'кръвоносни'), ('систолно', 'диастолно'), ('изместена', 'междинна'), (')', 'mm.Hg'), ('mm.Hg', 'П'), ('е', 'съгласен'), ('съгласен', 'да'), ('на', 'Диспансерно'), ('чужда', 'помощ'), ('РНФ', 'СД'), ('Корем', 'нна'), ('нна', 'нивото'), ('Паренхимни', 'органи'), ('mm', 'Hg.Крайници'), ('RR', 'л.р'), ('се', 'палпрат')]\n"
     ]
    }
   ],
   "source": [
    "def get_collocations(bigrams, freq_threshold=1):\n",
    "    collocations = []\n",
    "\n",
    "    bigram_map_first_word = {}\n",
    "    bigram_map_second_word = {}\n",
    "    for bigram, _ in bigrams:\n",
    "        if bigram[0] not in bigram_map_first_word:\n",
    "            bigram_map_first_word[bigram[0]] = 0\n",
    "        bigram_map_first_word[bigram[0]] += 1\n",
    "        if bigram[1] not in bigram_map_second_word:\n",
    "            bigram_map_second_word[bigram[1]] = 0\n",
    "        bigram_map_second_word[bigram[1]] += 1\n",
    "\n",
    "    for bigram, freq in bigrams:\n",
    "        if freq < freq_threshold:\n",
    "            continue\n",
    "        if bigram_map_first_word[bigram[0]] == 1 or bigram_map_second_word[bigram[1]] == 1:\n",
    "            collocations.append(bigram)\n",
    "\n",
    "    return collocations\n",
    "\n",
    "collocations = get_collocations(bigrams, 5)\n",
    "df_collocations = pd.DataFrame([(i, j) for i, j in collocations], columns=['First', 'Second'])\n",
    "df_collocations.to_csv('collocations.csv')\n",
    "print('====Collocations length====')\n",
    "print(len(collocations))\n",
    "print('====First 100 collocations====')\n",
    "print(collocations[0:100])"
   ]
  },
  {
   "cell_type": "markdown",
   "metadata": {},
   "source": [
    "### Export unigrams to table"
   ]
  },
  {
   "cell_type": "code",
   "execution_count": 36,
   "metadata": {},
   "outputs": [],
   "source": [
    "export_df = pd.DataFrame(unigrams, columns=['Word', 'Count'])\n",
    "\n",
    "export_df.to_excel('unigrams.xlsx')\n",
    "export_df.to_csv('unigrams.csv')"
   ]
  },
  {
   "cell_type": "markdown",
   "metadata": {},
   "source": [
    "### Most common mistakes"
   ]
  },
  {
   "cell_type": "code",
   "execution_count": 37,
   "metadata": {},
   "outputs": [
    {
     "name": "stdout",
     "output_type": "stream",
     "text": [
      "====First 50 unigram mistakes====\n",
      "[{'без': ['безз', 'безе', 'ебез']}, {'б.о': ['б.о.', 'б.оо', 'бб.о']}, {'Корем': ['Корме']}, {'Cor': []}, {'дишане': ['вдишване', 'дишанес', 'дишанел', 'издишане', 'дишаен', 'диишане', 'диашне', 'дишване', 'дишишане', 'дишанне', 'диша-не', 'деишане', 'дишанеи', 'дишавне', 'дишание', 'иьдишане', 'дишане.', 'дишанеRR', 'дишанев', 'дишанееедри', 'дишанеез', 'дзишане', 'идишване', 'дишарне', 'дишанене', 'дишаяне', 'издишнане']}, {'мек': []}, {'РСД': ['РДС', 'СРД', 'ДРС']}, {'тонове': ['тоновете', 'тоонве', 'тононве', 'товнове', 'тоонове', 'тонве', 'ттонове', 'тнове', 'тоновет', 'тоннове', 'тоновве', 'тонвое', 'тонтове', 'тооннове']}, {'отоци': ['оттоци', 'отци', 'тоци', 'отоиц', 'оитоци', 'отооци', 'ототци']}, {'дейност': ['дейнос', 'с.дейност', 'деност', 'дейности', 'дейост', 'дейност.', 'дейнот', 'дейносст', 'дейноскт', 'недост', 'десното', 'деййност', 'дейнст', 'дейножст', 'деайност', 'дейниост', 'дейностс', 'десност', 'дейнсот', 'дейностq', 'дейностг', 'дейносттон', 'съдейност', 'сденост', 'съддейност', 'пдейност', 'денйност']}, {'ясни': ['сясни', 'иясни', 'ясин', 'яснии', 'синя', 'яясни']}, {'Пулмо': ['Пуллмо', 'Пулмоо']}, {'мин': ['миним', 'мини', 'мни']}, {'Крайници': ['Краиници', 'Крайничци', 'Крайнициш', 'Краници', 'Крайнци', 'Крайни', 'Крйници', 'Крайнициб', 'Крайниц', 'Крайнеици', 'Кранйици', 'Ккрайници', 'Карйници', 'Кайници', 'Краайници', 'Краиниц', 'райници', 'Крайненици', 'Крайнници', 'Крайнишци', 'Краийници', 'Крайницис', 'Крайниции']}, {'везикуларно': ['везиколарно', 'визикуларно', 'везиуларно', 'везекуларно', 'везикуларна', 'везикларно', 'везикурарно', 'везикулрно', 'везикуларн', 'везикуларнор', 'везкуларно', 'езикуларно', 'везикуларни', 'везинуларно', 'везикуларен', 'взикуларно', 'нормовезикуларно', 'нормовезикуларноо', 'везикуларноя', 'веикуларно', 'везикулано', 'везикулорно', 'везикуларноq', 'везиукларно', 'везикулерно', 'везикулар-но', 'везикулавно', 'везиккуларно', 'везикуларво', 'везикуларено', 'вевикуларно', 'свезикуларно', 'везикурларно', 'везикеларно', 'твезикуларно', 'везикуларнно', 'везикурално', 'везикуларано', 'везилуларно', 'везикуларо', 'везикуларнао']}, {'сърдечна': ['сърдечната', 'сърдечен', 'сардечна', 'ърдечна', 'сърдена', 'съдечна', 'сърдечн', 'сърдчна', 'сърдечвана', 'дърдечна', 'сърдечан', 'нсърдечна', 'сръдечна', 'сърдечне', 'сърдейчна', 'дсърдечна']}, {'хрипове': ['хипове', 'хрипов', 'хрипове.', 'хпихове', 'пр.хрипове', 'хрепове', 'хриповев', 'припове', 'хрипови', 'рипове', 'хрпове', 'хрипое', 'хирпове', 'iхрипове', 'хриповеe', 'хрлипове', 'хрпипове', 'хрипве', 'хрипове-', 'хрипшове', 'хриповер', 'хриево', 'хропове', 'хрпиове', 'хриповае', 'хриппове', 'хриове', 'ихрипове', 'хриповед', 'хпипове', 'хриипове', 'хрипоев', 'хрипиове', 'хриепове', 'хирове', 'хрирове', 'хриповехрипове', 'хриповме', 'хрипояве', 'свхрипове', 'хриповее', 'хришпове']}, {'неболезнен': ['болезнен', 'болезнени', 'болезнена', 'неболезнена', 'неболезнени', 'болезнено', 'болезн', 'неболезнено', 'безболезнен', 'болезнене', 'неболезен', 'неболезн', 'безболезнена', 'иболезнени', 'болезне', 'болезен', 'заоблен', 'неболезнене', 'неболез', 'болезненна', 'неболзнен', 'неболезне', 'болезненос', 'болзнени', 'неболзнено', 'болезненв', 'неболезненен', 'неболезенен', 'иболезнини', 'неболезнен.', 'неболезнне', 'неболазнен', 'безболезнени', 'болзенени', 'лекоболезнен', 'неболезнеин', 'неболезннен', 'безполезнен', 'Неболезнено', 'неболезтен', 'болезннен', 'меболезнен', 'болзенен', 'болезнео', 'болезнение', 'болезени', 'оболезнен', 'неболуезнен', 'болезнев', 'болезене', 'болезенен', 'болезненот', 'неболезненна', 'неболезненн', 'неболезненр', 'небелознен', 'болезннени', 'болезненин', 'неболезненно', 'неаболезнен', 'нeболезнен', 'болезнес', 'неболезнан', 'небелезнено', 'болезненен', 'биолезнени', 'болезненн', 'болезнении', 'болезнне', 'болеузнен', 'болезна', 'неболезна', 'болезнеин', 'болезнепо', 'болезненс', 'болзезна', 'болеззнен', 'безболезн', 'болезненл', 'болезннене', 'боллезнен', 'неболезненена', 'болзенен.', 'болезнен.', 'болезненпо', 'необолезнен', 'болезенн', 'болеезнен', 'неболерзнен', 'болзнен']}, {'дроб': ['добро', 'дрбо', 'ддроб', 'дбро']}, {'ритмична': ['аритмична', 'ритмични', 'Аритмична', 'риттмична', 'aритмична', 'итмична', 'тахиаритмична', 'тахиритмична', 'травматична', 'неритмична', 'травматични', 'Aритмична', 'ритмечна', 'римична', 'ритъмична', 'норморитмична', 'ритмимчна', 'ретмична', 'аритмичан', 'ртмична', 'ритминта', 'антиаритмично', 'ритмичн', 'ритимчина', 'ритимична', 'ритмчина', 'аитмична', 'р.итмична', 'аретмична', 'тмична', 'Рритмична', 'аритмича', 'а-ритмична', 'аритмичен', 'ритмичан', 'ринмична', 'артмична', 'нормоаритмична', 'ритмчна']}, {'статус': ['сатус', 'устата', 'статуса', 'уста', 'стаус', 'статсу', 'саттус', 'сттатус', 'статусстатус', 'стату', 'сатсу', 'устатата']}, {'общо': ['общ', 'бщо', 'ообщо', 'бощо', 'обощо', 'обощ']}, {'двустранно': ['отр.двустранно', 'двустранна', 'двустрано', 'двустанно', 'двустраннно', 'двустранн', 'двусранно', 'двустронно', 'двустранно.', 'двустрана', 'двустарнно', 'двустранноо', 'двустраннна', 'отр-двустранно', 'двустрнно', 'двустранносу', 'свустранно', 'отрдвустранно', 'вустранно', 'двустрнанно', 'двудстранно', 'двустранноневр', 'двмустранно', 'дувстарно', 'двустранвно', 'двеустранно', 'двустнано', 'ср-двустрранно', 'двустранно-отр', 'двустрно', 'двустарно', 'двустранноъ', 'вдустранно', 'двусвтранно', 'двустранно-', 'двстрано', 'двустраннои', 'двустраннол', 'двустронна', 'двустлранно', 'двукстранно', 'др-двустранно']}, {'ССС': ['С', 'СС']}, {'състояние': ['състоянието', 'сътояние', 'съсояние', 'съсотяние', 'състоние', 'състяние', 'състояние.', 'състояния', 'състояни', 'Състоянието', 'съсътояние', 'сътоянието', 'състоятие', 'състояниесле', 'състояниел', 'стояние', 'състтояние', 'състиояниее', 'състояниеие', 'състояниеи', 'съсотянние', 'състояниета', 'състоянояние', 'съсстояние', 'състоянние', 'дсъстояние', 'состояние', 'състоняие', 'състояниеRR', 'съответния', 'състояие', 'сдъстояние', 'състояниуе', 'състояниие', 'съътояние', 'стени-състояние', 'състояпние', 'ссътояние', 'състояниее', 'ъсстояание', 'състоянвие', 'състоянуие', 'сътсояние', 'състояание', 'състояяние', 'състояниео', 'състотояние', 'ссътояни']}, {'палпират': ['сапалпират', 'правилата', 'палират', 'палпират.', 'епалпират', 'палпирта', 'полпират', 'алпират', 'палпирт', 'полиартр', 'палпирата', 'палпираат', 'палипрат', 'палпирет', 'палпиурат', 'палпхират', 'спалпират', 'ппалпират', 'полиартрит', 'палпирлат', 'палппират']}, {'слезка': ['сл.езка', 'ислезка', 'слезката', 'слезкане', 'слезска', 'слезак']}, {'вез': ['зев', 'взе', 'звез']}, {'крайници': ['крайник', 'крайника', 'краиници', 'крайни', 'крйници', 'краници', 'крайниц', 'Ккрайници', 'крайнииц', 'ккрайници', 'райник', 'крайници.', 'икрайници', 'райници', 'крайницици', 'крайница', 'крайици', 'крайнци', 'краяйници', 'кракници', 'краойници', 'крайнициб', 'крайницини', 'карйниц', 'красйници', 'крайнице', 'накрайници', 'крайиници', 'крайъници']}, {'чисто': ['ичисто', 'чисот', 'чистоо', 'чиссто']}, {'Кожа': []}, {'шумове': ['шумовес', 'шумове.', 'шумовео', 'шумовете', 'шумовеч', 'шуммове', 'шумовве']}, {'болезнен': ['неболезнен', 'болезнени', 'болезнена', 'неболезнена', 'неболезнени', 'болезнено', 'болезн', 'неболезнено', 'Неболезнен', 'безболезнен', 'болезнене', 'неболезен', 'неболезн', 'безболезнена', 'иболезнени', 'болезне', 'болезен', 'заоблен', 'неболезнене', 'неболез', 'болезненна', 'неболзнен', 'неболезне', 'болезненос', 'болзнени', 'неболзнено', 'болезненв', 'неболезненен', 'неболезенен', 'иболезнини', 'неболезнен.', 'неболезнне', 'неболазнен', 'безболезнени', 'болзенени', 'лекоболезнен', 'неболезнеин', 'неболезннен', 'безполезнен', 'Неболезнено', 'неболезтен', 'болезннен', 'меболезнен', 'болзенен', 'болезнео', 'болезнение', 'болезени', 'оболезнен', 'неболуезнен', 'болезнев', 'болезене', 'болезенен', 'болезненот', 'неболезненна', 'неболезненн', 'неболезненр', 'небелознен', 'болезннени', 'болезненин', 'неболезненно', 'неаболезнен', 'нeболезнен', 'болезнес', 'неболезнан', 'небелезнено', 'болезненен', 'биолезнени', 'болезненн', 'болезнении', 'болезнне', 'болеузнен', 'болезна', 'неболезна', 'болезнеин', 'болезнепо', 'болезненс', 'болзезна', 'болеззнен', 'безболезн', 'болезненл', 'болезннене', 'боллезнен', 'неболезненена', 'болзенен.', 'болезнен.', 'болезненпо', 'необолезнен', 'болезенн', 'болеезнен', 'неболерзнен', 'болзнен']}, {'сърд': []}, {'отр': ['тор', 'орт']}, {'тон': ['отн', 'тоно']}, {'пулсации': ['пулсац', 'пулсаций', 'пулсация', 'пулсаци', 'пуслации', 'пулсции', 'пулсациии', 'пулсациина', 'пулсацци', 'пусации', 'пулксации', 'пулации', 'пулсациеи', 'пяулсации', 'пуласации', 'пулсацици', 'пулсаии', 'пилсации', 'поулсации', 'опулсации', 'пулсцаии', 'плсации', 'пулациии', 'пулсации.', 'пулсацие', 'пулцации', 'пулосации']}, {'лигавици': ['лигавица', 'илигавици', 'лигавицци', 'лигавицата', 'лигамвици', 'легавици', 'илгавици', 'лигавиции', 'лигаваци', 'лигавици-в', 'лигавице', 'лгавици', 'лигавиц', 'лигавмици', 'лигавци', 'лигавициб', 'лигавиица', 'лигваци', 'лигавиици', 'лигагавици', 'лагивици']}, {'норма': ['нормано', 'норама']}, {'ОДА': []}, {'при': ['пир', 'прии']}, {'прибавени': ['прибавни', 'прибавена', 'направени', 'прибавен', 'правени', 'прибавеи', 'пврибавени', 'пребавени', 'приавени', 'прибавеин', 'прибевени', 'нрибавени', 'прибавениш', 'прибанене', 'прибавнени', 'прибарени']}, {'Черен': []}, {'жлеза': ['железа', 'жлезаза']}, {'неувеличени': ['увеличени', 'увеличена', 'неувеличена', 'неувеличен', 'увеличен', 'увелич', 'неувелич', 'лиен-неувеличени', 'не-увелич', 'неувелечени', 'нeувеличени', 'нуевеличени', 'увелечени', 'лиеннеувел', 'увеличение', 'неувеличини', 'неувеличени.', 'невеличени', 'неувеличеи', 'лиен-неувелич', 'увеличения', 'неувиличени', 'увеличени.', 'неувелличени', 'неуваличени', 'увелечен', 'величени', 'неувеличено', 'увеличеин', 'увеличено', 'нувеличени', 'увеличин', 'увиличена', 'венули', 'увелични', 'увеличана', 'увеличенина', 'увеличини', 'неувеличении', 'увеличаване', 'увличена', 'увеличеви', 'неувеличе', 'неуверличени', 'увелиени', 'лиен-неувеличен', 'челвени', 'неуеличени', 'неувуличени', 'увеличичена', 'нуевличени', 'увиличени', 'увеличанеа', 'хнеувеличени', 'пеувеличени', 'увуличена', 'увеливение', 'увеличчени', 'неувеличенa', 'увелечун', 'увелеличени', 'неувеличент', 'увелиичени', 'Неувличени', 'иувеличени', 'увелричен', 'нeувеличен', 'неувеличение', 'увеличе', 'увеличевни.', 'увличени', 'увелиличени', 'увеличенна', 'увеличенил', 'ниувеличени']}, {'ИТМ': []}, {'Pulmo': []}, {'КОРЕМ': ['КОРЕММЕК']}, {'Чисто': []}, {'стени': ['ситен', 'стеснени', 'тесни', 'тнестис', 'стеснение', 'тенис']}]\n"
     ]
    }
   ],
   "source": [
    "from nltk.metrics.distance import jaccard_distance\n",
    "\n",
    "top_unigrams_count = round(len(unigrams) * 0.03)\n",
    "top_unigrams = unigrams[0:top_unigrams_count]\n",
    "\n",
    "top_mistakes = []\n",
    "\n",
    "for unigram, _ in top_unigrams:\n",
    "    if len(unigram) < 3: continue\n",
    "    mistakes = { unigram: [] }\n",
    "    for other_unigram, _ in unigrams:\n",
    "        if unigram.lower() == other_unigram.lower(): continue\n",
    "        distance = jaccard_distance(set(unigram), set(other_unigram))\n",
    "        if distance < 0.15:\n",
    "            mistakes[unigram].append(other_unigram)\n",
    "    top_mistakes.append(mistakes)\n",
    "\n",
    "print('====First 50 unigram mistakes====')\n",
    "print(top_mistakes[0:50])"
   ]
  }
 ],
 "metadata": {
  "interpreter": {
   "hash": "aee8b7b246df8f9039afb4144a1f6fd8d2ca17a180786b69acc140d282b71a49"
  },
  "kernelspec": {
   "display_name": "Python 3.9.12 64-bit",
   "language": "python",
   "name": "python3"
  },
  "language_info": {
   "codemirror_mode": {
    "name": "ipython",
    "version": 3
   },
   "file_extension": ".py",
   "mimetype": "text/x-python",
   "name": "python",
   "nbconvert_exporter": "python",
   "pygments_lexer": "ipython3",
   "version": "3.9.12"
  },
  "orig_nbformat": 4
 },
 "nbformat": 4,
 "nbformat_minor": 2
}
