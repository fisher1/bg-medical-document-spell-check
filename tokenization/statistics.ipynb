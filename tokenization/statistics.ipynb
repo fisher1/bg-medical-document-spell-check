{
 "cells": [
  {
   "cell_type": "code",
   "execution_count": 65,
   "metadata": {},
   "outputs": [],
   "source": [
    "import pandas as pd\n",
    "import numpy as np\n",
    "from nltk import word_tokenize\n",
    "from nltk.util import ngrams\n",
    "import re"
   ]
  },
  {
   "cell_type": "markdown",
   "metadata": {},
   "source": [
    "### Load dataframe:"
   ]
  },
  {
   "cell_type": "code",
   "execution_count": 66,
   "metadata": {},
   "outputs": [],
   "source": [
    "with open('../data_per_simpCode_00_clean_anamnesa.txt', 'rb') as f:\n",
    "    lines = f.read().decode(\"utf-8\", \"backslashreplace\").splitlines()\n",
    "\n",
    "df_anamnesa = pd.DataFrame(lines, dtype='string')\n",
    "\n",
    "with open('../data_per_simpCode_00_clean_status.txt', 'r') as f:\n",
    "    lines = f.read().splitlines()\n",
    "\n",
    "df_status = pd.DataFrame(lines, dtype='string')"
   ]
  },
  {
   "cell_type": "markdown",
   "metadata": {},
   "source": [
    "### Define statistics functions"
   ]
  },
  {
   "cell_type": "code",
   "execution_count": 67,
   "metadata": {},
   "outputs": [],
   "source": [
    "def count_all_symbols(df):\n",
    "    return df[0].str.len().sum()\n",
    "\n",
    "def punctuation_marks_statistics(df, all_symbols_count):\n",
    "    punctuation_marks = [' ', '\\.', '\\?', '\\!', '\\-', '\\:', '\\;', '\\'', '\\\"', '\\(', '\\)', '\\{', '\\}', '\\[', '\\]', '\\*']\n",
    "    mark_statistic = {}\n",
    "    for mark in punctuation_marks:\n",
    "        count = df[0].str.count(mark).sum()\n",
    "        mark_statistic[mark] = {\n",
    "            'count': count,\n",
    "            'percentage': (count/all_symbols_count)*100\n",
    "        }\n",
    "    return {k: v for k, v in sorted(mark_statistic.items(), key=lambda item: item[1]['count'], reverse=True)}\n",
    "\n",
    "def digits_statistics(df, all_symbols_count):\n",
    "    count = df[0].str.count(r\"[0-9]\").sum()\n",
    "    return {\n",
    "        'count': count,\n",
    "        'percentage': (count/all_symbols_count)*100\n",
    "    }\n",
    "\n",
    "def latin_letters_statistics(df, all_symbols_count):\n",
    "    count = df[0].str.count(r\"[A-Za-z]\").sum()\n",
    "    return {\n",
    "        'count': count,\n",
    "        'percentage': (count/all_symbols_count)*100\n",
    "    }\n",
    "\n",
    "def cyrrilic_letters_statistics(df, all_symbols_count):\n",
    "    count = df[0].str.count(r\"[а-яА-Я]\").sum()\n",
    "    return {\n",
    "        'count': count,\n",
    "        'percentage': (count/all_symbols_count)*100\n",
    "    }\n",
    "\n",
    "def average_sentence_length(df):\n",
    "    total_length_chars = 0\n",
    "    total_length_words = 0\n",
    "    count = 0\n",
    "    for row in df[0]:\n",
    "        rows = row.split('\\. ')\n",
    "        for split_row in rows:\n",
    "            total_length_chars += len(split_row)\n",
    "            total_length_words += len(split_row.split(' '))\n",
    "            count += 1\n",
    "\n",
    "    return {\n",
    "        'chars_average': total_length_chars/count,\n",
    "        'words_average': total_length_words/count,\n",
    "    }\n",
    "\n",
    "def get_statistics(df):\n",
    "    count_all = count_all_symbols(df)\n",
    "    print(f\"Total symbols count: {count_all}\")\n",
    "    punctuation_mark_stats = punctuation_marks_statistics(df, count_all)\n",
    "    for mark in punctuation_mark_stats:\n",
    "        print(f\"Total count for {mark} is {punctuation_mark_stats[mark]}\")\n",
    "    print(f\"Digits statistic is {digits_statistics(df, count_all)}\")\n",
    "    print(f\"Latin letters statistic is {latin_letters_statistics(df, count_all)}\")\n",
    "    print(f\"Cyrrilic letters statistic is {cyrrilic_letters_statistics(df, count_all)}\")\n",
    "    print(f\"Average sentence length is {average_sentence_length(df)}\")\n"
   ]
  },
  {
   "cell_type": "markdown",
   "metadata": {},
   "source": [
    "### Perform statistics on anamnesa.txt:"
   ]
  },
  {
   "cell_type": "code",
   "execution_count": 68,
   "metadata": {},
   "outputs": [
    {
     "name": "stdout",
     "output_type": "stream",
     "text": [
      "Total symbols count: 485501\n",
      "Total count for   is {'count': 66630, 'percentage': 13.723967612837049}\n",
      "Total count for \\. is {'count': 6194, 'percentage': 1.2757955184438343}\n",
      "Total count for \" is {'count': 4612, 'percentage': 0.9499465500585993}\n",
      "Total count for \\- is {'count': 1919, 'percentage': 0.395261801726464}\n",
      "Total count for \\; is {'count': 1206, 'percentage': 0.2484031958739529}\n",
      "Total count for \\! is {'count': 129, 'percentage': 0.02657049110094521}\n",
      "Total count for \\: is {'count': 105, 'percentage': 0.02162714391937401}\n",
      "Total count for \\? is {'count': 100, 'percentage': 0.02059727992321334}\n",
      "Total count for \\( is {'count': 30, 'percentage': 0.006179183976964002}\n",
      "Total count for \\) is {'count': 30, 'percentage': 0.006179183976964002}\n",
      "Total count for \\* is {'count': 4, 'percentage': 0.0008238911969285336}\n",
      "Total count for ' is {'count': 3, 'percentage': 0.0006179183976964002}\n",
      "Total count for \\[ is {'count': 2, 'percentage': 0.0004119455984642668}\n",
      "Total count for \\{ is {'count': 0, 'percentage': 0.0}\n",
      "Total count for \\} is {'count': 0, 'percentage': 0.0}\n",
      "Total count for \\] is {'count': 0, 'percentage': 0.0}\n",
      "Digits statistic is {'count': 7394, 'percentage': 1.5229628775223945}\n",
      "Latin letters statistic is {'count': 546, 'percentage': 0.11246114838074484}\n",
      "Cyrrilic letters statistic is {'count': 384903, 'percentage': 79.27954834284584}\n",
      "Average sentence length is {'chars_average': 70.87605839416058, 'words_average': 10.727007299270072}\n"
     ]
    }
   ],
   "source": [
    "get_statistics(df_anamnesa)"
   ]
  },
  {
   "cell_type": "markdown",
   "metadata": {},
   "source": [
    "### Perform statistics on status.txt:"
   ]
  },
  {
   "cell_type": "code",
   "execution_count": 69,
   "metadata": {},
   "outputs": [
    {
     "name": "stdout",
     "output_type": "stream",
     "text": [
      "Total symbols count: 8227378\n",
      "Total count for   is {'count': 1121323, 'percentage': 13.629165938407109}\n",
      "Total count for \\. is {'count': 243213, 'percentage': 2.9561422849418126}\n",
      "Total count for \\- is {'count': 186162, 'percentage': 2.262713588703473}\n",
      "Total count for \" is {'count': 89786, 'percentage': 1.091307583047722}\n",
      "Total count for \\: is {'count': 27130, 'percentage': 0.32975268670042873}\n",
      "Total count for \\; is {'count': 24209, 'percentage': 0.29424927358388053}\n",
      "Total count for \\) is {'count': 2901, 'percentage': 0.035260322304384216}\n",
      "Total count for \\( is {'count': 2866, 'percentage': 0.034834913383097264}\n",
      "Total count for ' is {'count': 214, 'percentage': 0.0026010716901545064}\n",
      "Total count for \\* is {'count': 198, 'percentage': 0.002406599040423328}\n",
      "Total count for \\! is {'count': 140, 'percentage': 0.0017016356851478076}\n",
      "Total count for \\] is {'count': 130, 'percentage': 0.0015800902790658214}\n",
      "Total count for \\[ is {'count': 123, 'percentage': 0.0014950084948084311}\n",
      "Total count for \\? is {'count': 89, 'percentage': 0.0010817541141296778}\n",
      "Total count for \\} is {'count': 68, 'percentage': 0.0008265087613575065}\n",
      "Total count for \\{ is {'count': 58, 'percentage': 0.0007049633552755203}\n",
      "Digits statistic is {'count': 270370, 'percentage': 3.2862231442386625}\n",
      "Latin letters statistic is {'count': 145145, 'percentage': 1.7641707965769897}\n",
      "Cyrrilic letters statistic is {'count': 5729032, 'percentage': 69.6337520896694}\n",
      "Average sentence length is {'chars_average': 74.45523569922445, 'words_average': 11.147627623279428}\n"
     ]
    }
   ],
   "source": [
    "get_statistics(df_status)"
   ]
  }
 ],
 "metadata": {
  "interpreter": {
   "hash": "aee8b7b246df8f9039afb4144a1f6fd8d2ca17a180786b69acc140d282b71a49"
  },
  "kernelspec": {
   "display_name": "Python 3.9.12 64-bit",
   "language": "python",
   "name": "python3"
  },
  "language_info": {
   "codemirror_mode": {
    "name": "ipython",
    "version": 3
   },
   "file_extension": ".py",
   "mimetype": "text/x-python",
   "name": "python",
   "nbconvert_exporter": "python",
   "pygments_lexer": "ipython3",
   "version": "3.9.12"
  },
  "orig_nbformat": 4
 },
 "nbformat": 4,
 "nbformat_minor": 2
}
