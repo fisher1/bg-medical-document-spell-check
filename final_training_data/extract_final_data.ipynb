{
 "cells": [
  {
   "cell_type": "code",
   "execution_count": 34,
   "metadata": {},
   "outputs": [],
   "source": [
    "import pandas as pd\n",
    "import numpy as np\n",
    "import re"
   ]
  },
  {
   "cell_type": "markdown",
   "metadata": {},
   "source": [
    "## Load data:"
   ]
  },
  {
   "cell_type": "code",
   "execution_count": 35,
   "metadata": {},
   "outputs": [],
   "source": [
    "df = pd.read_excel('unigrams_new.xlsx')"
   ]
  },
  {
   "cell_type": "markdown",
   "metadata": {},
   "source": [
    "## Extract all correct manual + auto"
   ]
  },
  {
   "cell_type": "code",
   "execution_count": 36,
   "metadata": {},
   "outputs": [
    {
     "name": "stdout",
     "output_type": "stream",
     "text": [
      "43289\n",
      "11849\n",
      "0                    и\n",
      "1                   на\n",
      "2                  без\n",
      "3                  б.о\n",
      "5                корем\n",
      "             ...      \n",
      "42407              ЯМА\n",
      "42421             янка\n",
      "42428         ясни-тон\n",
      "42432    ясни.крайници\n",
      "42437      ясни.тонове\n",
      "Name: Word, Length: 11849, dtype: object\n"
     ]
    },
    {
     "name": "stderr",
     "output_type": "stream",
     "text": [
      "/var/folders/qf/hpznsg155vqgygs7mh_n_jmr0000gn/T/ipykernel_33458/2239085350.py:7: SettingWithCopyWarning: \n",
      "A value is trying to be set on a copy of a slice from a DataFrame.\n",
      "Try using .loc[row_indexer,col_indexer] = value instead\n",
      "\n",
      "See the caveats in the documentation: https://pandas.pydata.org/pandas-docs/stable/user_guide/indexing.html#returning-a-view-versus-a-copy\n",
      "  correct_words['Word'] = correct_words['Word'].apply(lowercase_non_abbreviations)\n"
     ]
    }
   ],
   "source": [
    "def lowercase_non_abbreviations(word: str):\n",
    "    if word.isupper():\n",
    "        return word\n",
    "    return word.lower()\n",
    "\n",
    "correct_words = df[(df['Correct auto'] == True) | (df['Correct manual'] == True)]\n",
    "correct_words['Word'] = correct_words['Word'].apply(lowercase_non_abbreviations)\n",
    "correct_words = correct_words.drop_duplicates(keep='first', subset=['Word'])\n",
    "print(len(df))\n",
    "print(len(correct_words))\n",
    "print(correct_words['Word'])"
   ]
  },
  {
   "cell_type": "markdown",
   "metadata": {},
   "source": [
    "## Get correct bigrams"
   ]
  },
  {
   "cell_type": "code",
   "execution_count": 37,
   "metadata": {},
   "outputs": [
    {
     "name": "stdout",
     "output_type": "stream",
     "text": [
      "        Unnamed: 0           First       Second  Count\n",
      "1                1             без        отоци   7400\n",
      "4                4        сърдечна      дейност   6613\n",
      "5                5            ясни       тонове   6034\n",
      "6                6              не           се   5940\n",
      "8                8              се     палпират   4303\n",
      "...            ...             ...          ...    ...\n",
      "156881      156881              на       костен      1\n",
      "156882      156882  пол.двустранно      липсват      1\n",
      "156886      156886    консистенция  неуголемени      1\n",
      "156890      156890              по         дете      1\n",
      "156891      156891            дете   подбедрици      1\n",
      "\n",
      "[54357 rows x 4 columns]\n"
     ]
    }
   ],
   "source": [
    "df_bigrams = pd.read_csv('bigrams.csv')\n",
    "df_bigrams = df_bigrams[df_bigrams['First'].isin(correct_words['Word']) & df_bigrams['Second'].isin(correct_words['Word'])]\n",
    "df_bigrams.to_csv('bigrams_new.csv')\n",
    "print(df_bigrams)"
   ]
  },
  {
   "cell_type": "markdown",
   "metadata": {},
   "source": [
    "## Get correct collocations"
   ]
  },
  {
   "cell_type": "code",
   "execution_count": 38,
   "metadata": {},
   "outputs": [
    {
     "name": "stdout",
     "output_type": "stream",
     "text": [
      "      Unnamed: 0                First         Second\n",
      "0              0        ПИКОЧО-ПОЛОВО           С-МА\n",
      "10            10                   на      артериите\n",
      "11            11                   на       гръд.кош\n",
      "18            18            условията             на\n",
      "23            23                   се       постигне\n",
      "...          ...                  ...            ...\n",
      "2610        2610  проблеми-тревожност          фобии\n",
      "2611        2611                   се  визуализираха\n",
      "2621        2621                    с      правилата\n",
      "2622        2622            правилата             за\n",
      "2646        2646             ХОРИЗОНТ        ПОЗИЦИЯ\n",
      "\n",
      "[542 rows x 3 columns]\n"
     ]
    }
   ],
   "source": [
    "df_collocations = pd.read_csv('collocations.csv')\n",
    "df_collocations = df_collocations[df_collocations['First'].isin(correct_words['Word']) & df_collocations['Second'].isin(correct_words['Word'])]\n",
    "df_collocations.to_csv('collocations_new.csv')\n",
    "print(df_collocations)"
   ]
  },
  {
   "cell_type": "markdown",
   "metadata": {},
   "source": [
    "## Extract to CSV"
   ]
  },
  {
   "cell_type": "code",
   "execution_count": 39,
   "metadata": {},
   "outputs": [],
   "source": [
    "correct_words.to_csv('correct.csv', columns=['Word', 'Count'])"
   ]
  }
 ],
 "metadata": {
  "interpreter": {
   "hash": "aee8b7b246df8f9039afb4144a1f6fd8d2ca17a180786b69acc140d282b71a49"
  },
  "kernelspec": {
   "display_name": "Python 3.9.12 64-bit",
   "language": "python",
   "name": "python3"
  },
  "language_info": {
   "codemirror_mode": {
    "name": "ipython",
    "version": 3
   },
   "file_extension": ".py",
   "mimetype": "text/x-python",
   "name": "python",
   "nbconvert_exporter": "python",
   "pygments_lexer": "ipython3",
   "version": "3.9.12"
  },
  "orig_nbformat": 4
 },
 "nbformat": 4,
 "nbformat_minor": 2
}
